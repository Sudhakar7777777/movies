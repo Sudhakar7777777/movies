{
 "cells": [
  {
   "cell_type": "markdown",
   "metadata": {},
   "source": [
    "# Movie Genre analysis"
   ]
  },
  {
   "cell_type": "markdown",
   "metadata": {},
   "source": [
    "#### Dataset: https://www.kaggle.com/beyjin/movies-1990-to-2017"
   ]
  },
  {
   "cell_type": "markdown",
   "metadata": {},
   "source": [
    "## Import"
   ]
  },
  {
   "cell_type": "code",
   "execution_count": 1,
   "metadata": {},
   "outputs": [],
   "source": [
    "import pandas as pd # data processing, CSV file I/O (e.g. pd.read_csv)\n",
    "import seaborn as sns\n",
    "import matplotlib.pyplot as plt\n",
    "%matplotlib inline "
   ]
  },
  {
   "cell_type": "markdown",
   "metadata": {},
   "source": [
    "## Preparation"
   ]
  },
  {
   "cell_type": "code",
   "execution_count": 2,
   "metadata": {},
   "outputs": [
    {
     "name": "stdout",
     "output_type": "stream",
     "text": [
      "There are 308565 rows and 3 columns in Movie_Genres.csv\n"
     ]
    }
   ],
   "source": [
    "## import Genre file\n",
    "nRowsRead = None\n",
    "genres = pd.read_csv(\"./data/Movie_Genres.csv\", nrows=nRowsRead)\n",
    "genres.dataframeName = 'Movie_Genres.csv'\n",
    "nRow, nCol = genres.shape\n",
    "print(f'There are {nRow} rows and {nCol} columns in {genres.dataframeName}')"
   ]
  },
  {
   "cell_type": "code",
   "execution_count": 3,
   "metadata": {},
   "outputs": [
    {
     "name": "stdout",
     "output_type": "stream",
     "text": [
      "There are 178687 rows and 18 columns in Movie_Movies.csv\n"
     ]
    },
    {
     "name": "stderr",
     "output_type": "stream",
     "text": [
      "/Users/sbalak/miniconda/envs/gis/lib/python3.7/site-packages/IPython/core/interactiveshell.py:3051: DtypeWarning: Columns (14) have mixed types. Specify dtype option on import or set low_memory=False.\n",
      "  interactivity=interactivity, compiler=compiler, result=result)\n"
     ]
    }
   ],
   "source": [
    "## import Movies file\n",
    "nRowsRead = None\n",
    "movies = pd.read_csv(\"./data/Movie_Movies.csv\", nrows=nRowsRead)\n",
    "movies.dataframeName = 'Movie_Movies.csv'\n",
    "nRow, nCol = movies.shape\n",
    "print(f'There are {nRow} rows and {nCol} columns in {movies.dataframeName}')"
   ]
  },
  {
   "cell_type": "code",
   "execution_count": 4,
   "metadata": {},
   "outputs": [
    {
     "data": {
      "text/html": [
       "<div>\n",
       "<style scoped>\n",
       "    .dataframe tbody tr th:only-of-type {\n",
       "        vertical-align: middle;\n",
       "    }\n",
       "\n",
       "    .dataframe tbody tr th {\n",
       "        vertical-align: top;\n",
       "    }\n",
       "\n",
       "    .dataframe thead th {\n",
       "        text-align: right;\n",
       "    }\n",
       "</style>\n",
       "<table border=\"1\" class=\"dataframe\">\n",
       "  <thead>\n",
       "    <tr style=\"text-align: right;\">\n",
       "      <th></th>\n",
       "      <th>Awards</th>\n",
       "      <th>Country</th>\n",
       "      <th>DVD</th>\n",
       "      <th>Director</th>\n",
       "      <th>Language</th>\n",
       "      <th>Plot</th>\n",
       "      <th>Poster</th>\n",
       "      <th>Production</th>\n",
       "      <th>Rated</th>\n",
       "      <th>Released</th>\n",
       "      <th>Runtime</th>\n",
       "      <th>Title</th>\n",
       "      <th>Type</th>\n",
       "      <th>Website</th>\n",
       "      <th>Year</th>\n",
       "      <th>imdbID</th>\n",
       "      <th>imdbRating</th>\n",
       "      <th>imdbVotes</th>\n",
       "    </tr>\n",
       "  </thead>\n",
       "  <tbody>\n",
       "    <tr>\n",
       "      <th>0</th>\n",
       "      <td>NaN</td>\n",
       "      <td>USA</td>\n",
       "      <td>NaN</td>\n",
       "      <td>Rose Cummings</td>\n",
       "      <td>English</td>\n",
       "      <td>Rachel constantly hears her baby cry from the ...</td>\n",
       "      <td>NaN</td>\n",
       "      <td>NaN</td>\n",
       "      <td>NaN</td>\n",
       "      <td>26 Apr 2012</td>\n",
       "      <td>20 min</td>\n",
       "      <td>Baby's Breath</td>\n",
       "      <td>movie</td>\n",
       "      <td>NaN</td>\n",
       "      <td>2012</td>\n",
       "      <td>tt2268369</td>\n",
       "      <td>NaN</td>\n",
       "      <td>NaN</td>\n",
       "    </tr>\n",
       "    <tr>\n",
       "      <th>1</th>\n",
       "      <td>NaN</td>\n",
       "      <td>USA</td>\n",
       "      <td>NaN</td>\n",
       "      <td>James Byrne</td>\n",
       "      <td>NaN</td>\n",
       "      <td>The struggle against unfortunate circumstances...</td>\n",
       "      <td>NaN</td>\n",
       "      <td>NaN</td>\n",
       "      <td>NaN</td>\n",
       "      <td>NaN</td>\n",
       "      <td>9 min</td>\n",
       "      <td>Winter Trees</td>\n",
       "      <td>movie</td>\n",
       "      <td>NaN</td>\n",
       "      <td>2008</td>\n",
       "      <td>tt1560760</td>\n",
       "      <td>NaN</td>\n",
       "      <td>NaN</td>\n",
       "    </tr>\n",
       "    <tr>\n",
       "      <th>2</th>\n",
       "      <td>NaN</td>\n",
       "      <td>USA</td>\n",
       "      <td>NaN</td>\n",
       "      <td>Dimitri Buchowetzki</td>\n",
       "      <td>NaN</td>\n",
       "      <td>NaN</td>\n",
       "      <td>NaN</td>\n",
       "      <td>NaN</td>\n",
       "      <td>NaN</td>\n",
       "      <td>27 Mar 1926</td>\n",
       "      <td>50 min</td>\n",
       "      <td>The Crown of Lies</td>\n",
       "      <td>movie</td>\n",
       "      <td>NaN</td>\n",
       "      <td>1926</td>\n",
       "      <td>tt0016750</td>\n",
       "      <td>NaN</td>\n",
       "      <td>NaN</td>\n",
       "    </tr>\n",
       "    <tr>\n",
       "      <th>3</th>\n",
       "      <td>NaN</td>\n",
       "      <td>USA</td>\n",
       "      <td>NaN</td>\n",
       "      <td>Julia Hechler</td>\n",
       "      <td>English</td>\n",
       "      <td>A Gift introduces Samuel Green, Washington Sta...</td>\n",
       "      <td>NaN</td>\n",
       "      <td>NaN</td>\n",
       "      <td>NaN</td>\n",
       "      <td>27 May 2013</td>\n",
       "      <td>2 min</td>\n",
       "      <td>A Gift</td>\n",
       "      <td>movie</td>\n",
       "      <td>NaN</td>\n",
       "      <td>2013</td>\n",
       "      <td>tt3405286</td>\n",
       "      <td>NaN</td>\n",
       "      <td>NaN</td>\n",
       "    </tr>\n",
       "    <tr>\n",
       "      <th>4</th>\n",
       "      <td>NaN</td>\n",
       "      <td>Sri Lanka</td>\n",
       "      <td>NaN</td>\n",
       "      <td>Udara Siriruwan</td>\n",
       "      <td>Sinhalese</td>\n",
       "      <td>NaN</td>\n",
       "      <td>NaN</td>\n",
       "      <td>NaN</td>\n",
       "      <td>NaN</td>\n",
       "      <td>20 Mar 2014</td>\n",
       "      <td>23 min</td>\n",
       "      <td>Journey</td>\n",
       "      <td>movie</td>\n",
       "      <td>NaN</td>\n",
       "      <td>2014</td>\n",
       "      <td>tt3816698</td>\n",
       "      <td>NaN</td>\n",
       "      <td>NaN</td>\n",
       "    </tr>\n",
       "  </tbody>\n",
       "</table>\n",
       "</div>"
      ],
      "text/plain": [
       "  Awards    Country  DVD             Director   Language  \\\n",
       "0    NaN        USA  NaN        Rose Cummings    English   \n",
       "1    NaN        USA  NaN          James Byrne        NaN   \n",
       "2    NaN        USA  NaN  Dimitri Buchowetzki        NaN   \n",
       "3    NaN        USA  NaN        Julia Hechler    English   \n",
       "4    NaN  Sri Lanka  NaN      Udara Siriruwan  Sinhalese   \n",
       "\n",
       "                                                Plot Poster Production Rated  \\\n",
       "0  Rachel constantly hears her baby cry from the ...    NaN        NaN   NaN   \n",
       "1  The struggle against unfortunate circumstances...    NaN        NaN   NaN   \n",
       "2                                                NaN    NaN        NaN   NaN   \n",
       "3  A Gift introduces Samuel Green, Washington Sta...    NaN        NaN   NaN   \n",
       "4                                                NaN    NaN        NaN   NaN   \n",
       "\n",
       "      Released Runtime              Title   Type Website  Year     imdbID  \\\n",
       "0  26 Apr 2012  20 min      Baby's Breath  movie     NaN  2012  tt2268369   \n",
       "1          NaN   9 min       Winter Trees  movie     NaN  2008  tt1560760   \n",
       "2  27 Mar 1926  50 min  The Crown of Lies  movie     NaN  1926  tt0016750   \n",
       "3  27 May 2013   2 min             A Gift  movie     NaN  2013  tt3405286   \n",
       "4  20 Mar 2014  23 min            Journey  movie     NaN  2014  tt3816698   \n",
       "\n",
       "   imdbRating imdbVotes  \n",
       "0         NaN       NaN  \n",
       "1         NaN       NaN  \n",
       "2         NaN       NaN  \n",
       "3         NaN       NaN  \n",
       "4         NaN       NaN  "
      ]
     },
     "execution_count": 4,
     "metadata": {},
     "output_type": "execute_result"
    }
   ],
   "source": [
    "movies.head()"
   ]
  },
  {
   "cell_type": "code",
   "execution_count": 5,
   "metadata": {},
   "outputs": [
    {
     "name": "stdout",
     "output_type": "stream",
     "text": [
      "<class 'pandas.core.frame.DataFrame'>\n",
      "RangeIndex: 178687 entries, 0 to 178686\n",
      "Data columns (total 18 columns):\n",
      "Awards        20340 non-null object\n",
      "Country       165998 non-null object\n",
      "DVD           15949 non-null object\n",
      "Director      151353 non-null object\n",
      "Language      153196 non-null object\n",
      "Plot          97476 non-null object\n",
      "Poster        48414 non-null object\n",
      "Production    16446 non-null object\n",
      "Rated         23906 non-null object\n",
      "Released      116974 non-null object\n",
      "Runtime       119497 non-null object\n",
      "Title         178686 non-null object\n",
      "Type          178686 non-null object\n",
      "Website       6747 non-null object\n",
      "Year          178686 non-null object\n",
      "imdbID        178686 non-null object\n",
      "imdbRating    62073 non-null float64\n",
      "imdbVotes     62029 non-null object\n",
      "dtypes: float64(1), object(17)\n",
      "memory usage: 24.5+ MB\n"
     ]
    }
   ],
   "source": [
    "movies.info()"
   ]
  },
  {
   "cell_type": "code",
   "execution_count": 6,
   "metadata": {},
   "outputs": [],
   "source": [
    "#drop Columns which are not necessary\n",
    "movies.drop(['Awards', 'DVD', 'Poster', 'Plot', 'Website', 'Production', 'Rated'], axis = 1, inplace = True)"
   ]
  },
  {
   "cell_type": "code",
   "execution_count": 7,
   "metadata": {},
   "outputs": [
    {
     "name": "stdout",
     "output_type": "stream",
     "text": [
      "<class 'pandas.core.frame.DataFrame'>\n",
      "RangeIndex: 178687 entries, 0 to 178686\n",
      "Data columns (total 11 columns):\n",
      "Country       165998 non-null object\n",
      "Director      151353 non-null object\n",
      "Language      153196 non-null object\n",
      "Released      116974 non-null object\n",
      "Runtime       119497 non-null object\n",
      "Title         178686 non-null object\n",
      "Type          178686 non-null object\n",
      "Year          178686 non-null object\n",
      "imdbID        178686 non-null object\n",
      "imdbRating    62073 non-null float64\n",
      "imdbVotes     62029 non-null object\n",
      "dtypes: float64(1), object(10)\n",
      "memory usage: 15.0+ MB\n"
     ]
    }
   ],
   "source": [
    "movies.info()"
   ]
  },
  {
   "cell_type": "markdown",
   "metadata": {},
   "source": [
    "Reasoning why I kept the rest of the Columns\n",
    "* Country: It may be interesting to see if there is a correlation between the Genre and Country\n",
    "* Director: Does the Director has preferences of what he wants to produce?\n",
    "* Released: Is there a relation between Releasedate, Imdb Rating and the Genre?\n",
    "* Runtime: Is there an ideal Timeframe which might improve the imdb Rating?\n",
    "* Year: Can we identify a hype in the production of some Genre?\n",
    "* Language: Is there a preference of Genre within a Language which might be used to identify trends within a country"
   ]
  },
  {
   "cell_type": "code",
   "execution_count": 8,
   "metadata": {},
   "outputs": [
    {
     "data": {
      "text/html": [
       "<div>\n",
       "<style scoped>\n",
       "    .dataframe tbody tr th:only-of-type {\n",
       "        vertical-align: middle;\n",
       "    }\n",
       "\n",
       "    .dataframe tbody tr th {\n",
       "        vertical-align: top;\n",
       "    }\n",
       "\n",
       "    .dataframe thead th {\n",
       "        text-align: right;\n",
       "    }\n",
       "</style>\n",
       "<table border=\"1\" class=\"dataframe\">\n",
       "  <thead>\n",
       "    <tr style=\"text-align: right;\">\n",
       "      <th></th>\n",
       "      <th>Country</th>\n",
       "      <th>Director</th>\n",
       "      <th>Language</th>\n",
       "      <th>Released</th>\n",
       "      <th>Runtime</th>\n",
       "      <th>Title</th>\n",
       "      <th>Type</th>\n",
       "      <th>Year</th>\n",
       "      <th>imdbID</th>\n",
       "      <th>imdbRating</th>\n",
       "      <th>imdbVotes</th>\n",
       "    </tr>\n",
       "  </thead>\n",
       "  <tbody>\n",
       "    <tr>\n",
       "      <th>0</th>\n",
       "      <td>USA</td>\n",
       "      <td>Rose Cummings</td>\n",
       "      <td>English</td>\n",
       "      <td>26 Apr 2012</td>\n",
       "      <td>20 min</td>\n",
       "      <td>Baby's Breath</td>\n",
       "      <td>movie</td>\n",
       "      <td>2012</td>\n",
       "      <td>tt2268369</td>\n",
       "      <td>NaN</td>\n",
       "      <td>NaN</td>\n",
       "    </tr>\n",
       "    <tr>\n",
       "      <th>1</th>\n",
       "      <td>USA</td>\n",
       "      <td>James Byrne</td>\n",
       "      <td>NaN</td>\n",
       "      <td>NaN</td>\n",
       "      <td>9 min</td>\n",
       "      <td>Winter Trees</td>\n",
       "      <td>movie</td>\n",
       "      <td>2008</td>\n",
       "      <td>tt1560760</td>\n",
       "      <td>NaN</td>\n",
       "      <td>NaN</td>\n",
       "    </tr>\n",
       "    <tr>\n",
       "      <th>2</th>\n",
       "      <td>USA</td>\n",
       "      <td>Dimitri Buchowetzki</td>\n",
       "      <td>NaN</td>\n",
       "      <td>27 Mar 1926</td>\n",
       "      <td>50 min</td>\n",
       "      <td>The Crown of Lies</td>\n",
       "      <td>movie</td>\n",
       "      <td>1926</td>\n",
       "      <td>tt0016750</td>\n",
       "      <td>NaN</td>\n",
       "      <td>NaN</td>\n",
       "    </tr>\n",
       "    <tr>\n",
       "      <th>3</th>\n",
       "      <td>USA</td>\n",
       "      <td>Julia Hechler</td>\n",
       "      <td>English</td>\n",
       "      <td>27 May 2013</td>\n",
       "      <td>2 min</td>\n",
       "      <td>A Gift</td>\n",
       "      <td>movie</td>\n",
       "      <td>2013</td>\n",
       "      <td>tt3405286</td>\n",
       "      <td>NaN</td>\n",
       "      <td>NaN</td>\n",
       "    </tr>\n",
       "    <tr>\n",
       "      <th>4</th>\n",
       "      <td>Sri Lanka</td>\n",
       "      <td>Udara Siriruwan</td>\n",
       "      <td>Sinhalese</td>\n",
       "      <td>20 Mar 2014</td>\n",
       "      <td>23 min</td>\n",
       "      <td>Journey</td>\n",
       "      <td>movie</td>\n",
       "      <td>2014</td>\n",
       "      <td>tt3816698</td>\n",
       "      <td>NaN</td>\n",
       "      <td>NaN</td>\n",
       "    </tr>\n",
       "  </tbody>\n",
       "</table>\n",
       "</div>"
      ],
      "text/plain": [
       "     Country             Director   Language     Released Runtime  \\\n",
       "0        USA        Rose Cummings    English  26 Apr 2012  20 min   \n",
       "1        USA          James Byrne        NaN          NaN   9 min   \n",
       "2        USA  Dimitri Buchowetzki        NaN  27 Mar 1926  50 min   \n",
       "3        USA        Julia Hechler    English  27 May 2013   2 min   \n",
       "4  Sri Lanka      Udara Siriruwan  Sinhalese  20 Mar 2014  23 min   \n",
       "\n",
       "               Title   Type  Year     imdbID  imdbRating imdbVotes  \n",
       "0      Baby's Breath  movie  2012  tt2268369         NaN       NaN  \n",
       "1       Winter Trees  movie  2008  tt1560760         NaN       NaN  \n",
       "2  The Crown of Lies  movie  1926  tt0016750         NaN       NaN  \n",
       "3             A Gift  movie  2013  tt3405286         NaN       NaN  \n",
       "4            Journey  movie  2014  tt3816698         NaN       NaN  "
      ]
     },
     "execution_count": 8,
     "metadata": {},
     "output_type": "execute_result"
    }
   ],
   "source": [
    "movies.head()"
   ]
  },
  {
   "cell_type": "markdown",
   "metadata": {},
   "source": [
    "### clean up movies dataset"
   ]
  },
  {
   "cell_type": "code",
   "execution_count": 9,
   "metadata": {},
   "outputs": [
    {
     "data": {
      "text/plain": [
       "0         False\n",
       "1         False\n",
       "2         False\n",
       "3         False\n",
       "4         False\n",
       "          ...  \n",
       "178682    False\n",
       "178683    False\n",
       "178684    False\n",
       "178685    False\n",
       "178686    False\n",
       "Length: 178687, dtype: bool"
      ]
     },
     "execution_count": 9,
     "metadata": {},
     "output_type": "execute_result"
    }
   ],
   "source": [
    "movies.duplicated()"
   ]
  },
  {
   "cell_type": "code",
   "execution_count": 10,
   "metadata": {},
   "outputs": [
    {
     "data": {
      "text/plain": [
       "265"
      ]
     },
     "execution_count": 10,
     "metadata": {},
     "output_type": "execute_result"
    }
   ],
   "source": [
    "#Why is Year column an object instead of int?\n",
    "movies.Year.nunique()"
   ]
  },
  {
   "cell_type": "code",
   "execution_count": 11,
   "metadata": {},
   "outputs": [
    {
     "data": {
      "text/plain": [
       "array([2012, 2008, 1926, 2013, 2014, 2009, 1915, 1966, 2005, 2016, 2017,\n",
       "       2002, 2015, 2004, 2011, 1986, 2001, 1953, 1990, 1970, 1934, 1997,\n",
       "       1908, 2010, 1931, 2006, 1971, 2007, 1989, 1950, 1919, 1973, 1902,\n",
       "       1959, 1964, 1916, 1995, 1914, 1939, 1991, 1912, 1918, 1975, 1967,\n",
       "       1957, 1994, 1996, 1992, 1913, 1910, 1993, 1969, 1907, 1911, 1999,\n",
       "       1987, 1972, 1937, 1958, 1925, 1928, 1983, 2003, 1984, 1998, 2000,\n",
       "       2018, 1956, 1988, 1982, 1955, 1932, 1952, 1906, 1960, 1933, 1927,\n",
       "       1917, 1974, 1901, 1985, 1980, 1977, 1920, 1899, 1962, 1981, 1979,\n",
       "       1921, 1936, 1946, 1930, 1905, 1965, 1923, 1942, 1961, 1903, 1898,\n",
       "       1943, 1978, 1909, 1948, 1924, 1929, 1976, 1949, 1947, 1922, 1940,\n",
       "       1938, 1954, 1941, 1900, 1935, 1944, 1968, 1904, 1951, 1895, 1963,\n",
       "       2019, 1945, 1896, 1897, 2020, 1889, 1894, 2021, 1890, 2023, 1891.0,\n",
       "       nan, 2022, '1896', '1938', '1987', '2008', '2012', '2015', '1978',\n",
       "       '2011', '2007', '2014', '2004', '1912', '1997', '2016', '2013',\n",
       "       '1966', '1994', '1915', '1913', '2005', '2003', '1991', '1930',\n",
       "       '1903', '1988', '1919', '2009', '1963', '2010', '1932', '1985',\n",
       "       '1962', '1983', '1990', '1968', '1981', '1908', '1906', '1993',\n",
       "       '2006', '1998', '1898', '1961', '1936', '1964', '1989', '1960',\n",
       "       '1909', '1910', '1923', '1944', '1914', '2001', '1950', '1999',\n",
       "       '1971', '1955', '1952', '2017', '1995', '1925', '1986', '1900',\n",
       "       '1957', '1982', '1975', '1973', '1917', '1979', '2002', '1970',\n",
       "       '1924', '1992', '1967', '1996', '2000', '1969', '1977', '1918',\n",
       "       '1911', '1980', '1947', '1934', '1907', '1904', '1902', '1976',\n",
       "       '1922', '1928', '1956', '1905', '1972', '1921', '1984', '1931',\n",
       "       '1937', '1974', '1941', '1959', '1920', '2018', '1926', '1942',\n",
       "       '1927', '1939', '1916', '1951', '1935', '1954', '1933', '1949',\n",
       "       '1948', '1929', '2020', '1946', '1965', '1940', '1899', '2019',\n",
       "       '1953', '1958', '1901', '1943', '1895', '1945', '1897', '2021',\n",
       "       '1894', '2003–2005', '2007–2011', '2010–2013', '2012–2016'],\n",
       "      dtype=object)"
      ]
     },
     "execution_count": 11,
     "metadata": {},
     "output_type": "execute_result"
    }
   ],
   "source": [
    "movies.Year.unique()"
   ]
  },
  {
   "cell_type": "code",
   "execution_count": 12,
   "metadata": {},
   "outputs": [],
   "source": [
    "def validateColumnType(dfSeriesColumn, expectType = int):\n",
    "    typeStats = {}\n",
    "    for value in dfSeriesColumn:\n",
    "        if type(value) != expectType:\n",
    "            typeName = type(value).__name__\n",
    "            if typeName in typeStats.keys():\n",
    "                if value not in typeStats[typeName]:\n",
    "                    typeStats[typeName].append(value)\n",
    "            else:\n",
    "                typeStats[typeName] = []\n",
    "                typeStats[typeName].append(value)\n",
    "    return typeStats"
   ]
  },
  {
   "cell_type": "code",
   "execution_count": 13,
   "metadata": {},
   "outputs": [],
   "source": [
    "yearInfo = validateColumnType(movies.Year, int)"
   ]
  },
  {
   "cell_type": "code",
   "execution_count": 14,
   "metadata": {},
   "outputs": [
    {
     "data": {
      "text/plain": [
       "dict_keys(['float', 'str'])"
      ]
     },
     "execution_count": 14,
     "metadata": {},
     "output_type": "execute_result"
    }
   ],
   "source": [
    "yearInfo.keys()"
   ]
  },
  {
   "cell_type": "code",
   "execution_count": 15,
   "metadata": {},
   "outputs": [
    {
     "name": "stdout",
     "output_type": "stream",
     "text": [
      "[1919.0, 2006.0, 2008.0, 2014.0, 2017.0, 2007.0, 1997.0, 2009.0, 1911.0, 1996.0]\n",
      "[1907.0, 1961.0, 1900.0, 1899.0, 1897.0, 1895.0, 2021.0, 1891.0, nan]\n",
      "130\n"
     ]
    }
   ],
   "source": [
    "print(yearInfo['float'][0:10])\n",
    "print(yearInfo['float'][-10:-1])\n",
    "print(len(yearInfo['float']))"
   ]
  },
  {
   "cell_type": "code",
   "execution_count": 16,
   "metadata": {},
   "outputs": [
    {
     "name": "stdout",
     "output_type": "stream",
     "text": [
      "['1896', '1938', '1987', '2008', '2012', '2015', '1978', '2011', '2007', '2014']\n",
      "['1943', '1895', '1945', '1897', '2021', '1894', '2003–2005', '2007–2011', '2010–2013']\n",
      "132\n"
     ]
    }
   ],
   "source": [
    "print(yearInfo['str'][0:10])\n",
    "print(yearInfo['str'][-10:-1])\n",
    "print(len(yearInfo['str']))"
   ]
  },
  {
   "cell_type": "code",
   "execution_count": 17,
   "metadata": {},
   "outputs": [],
   "source": [
    "# If year has multiple values, choose the first one.\n",
    "def cleanYear(x):\n",
    "    if type(x) is str:\n",
    "        x = x.split(\"–\")[0]\n",
    "        return x\n",
    "    else:\n",
    "        return x"
   ]
  },
  {
   "cell_type": "code",
   "execution_count": 18,
   "metadata": {},
   "outputs": [],
   "source": [
    "# Drop rows with missing or Nan values for Year column\n",
    "movies = movies.dropna(subset=['Year'])\n",
    "\n",
    "# Clean up year data and convert values to Int16\n",
    "movies.Year = movies.Year.apply(lambda x : cleanYear(x)).astype(\"Float16\").astype(\"Int16\")"
   ]
  },
  {
   "cell_type": "code",
   "execution_count": 19,
   "metadata": {},
   "outputs": [
    {
     "data": {
      "text/plain": [
       "<IntegerArray>\n",
       "[2012, 2008, 1926, 2013, 2014, 2009, 1915, 1966, 2005, 2016,\n",
       " ...\n",
       " 1896, 1897, 2020, 1889, 1894, 2021, 1890, 2023, 1891, 2022]\n",
       "Length: 133, dtype: Int16"
      ]
     },
     "execution_count": 19,
     "metadata": {},
     "output_type": "execute_result"
    }
   ],
   "source": [
    "movies.Year.unique()"
   ]
  },
  {
   "cell_type": "code",
   "execution_count": 20,
   "metadata": {},
   "outputs": [
    {
     "name": "stdout",
     "output_type": "stream",
     "text": [
      "<class 'pandas.core.frame.DataFrame'>\n",
      "Int64Index: 178686 entries, 0 to 178686\n",
      "Data columns (total 11 columns):\n",
      "Country       165998 non-null object\n",
      "Director      151353 non-null object\n",
      "Language      153196 non-null object\n",
      "Released      116974 non-null object\n",
      "Runtime       119497 non-null object\n",
      "Title         178686 non-null object\n",
      "Type          178686 non-null object\n",
      "Year          178686 non-null Int16\n",
      "imdbID        178686 non-null object\n",
      "imdbRating    62073 non-null float64\n",
      "imdbVotes     62029 non-null object\n",
      "dtypes: Int16(1), float64(1), object(9)\n",
      "memory usage: 15.5+ MB\n"
     ]
    }
   ],
   "source": [
    "movies.info()"
   ]
  },
  {
   "cell_type": "code",
   "execution_count": 21,
   "metadata": {},
   "outputs": [
    {
     "data": {
      "text/plain": [
       "dict_keys(['int16'])"
      ]
     },
     "execution_count": 21,
     "metadata": {},
     "output_type": "execute_result"
    }
   ],
   "source": [
    "yearInfo = validateColumnType(movies.Year, int)\n",
    "yearInfo.keys()"
   ]
  },
  {
   "cell_type": "code",
   "execution_count": 22,
   "metadata": {},
   "outputs": [
    {
     "data": {
      "text/plain": [
       "91"
      ]
     },
     "execution_count": 22,
     "metadata": {},
     "output_type": "execute_result"
    }
   ],
   "source": [
    "movies.imdbRating.nunique()"
   ]
  },
  {
   "cell_type": "code",
   "execution_count": 23,
   "metadata": {},
   "outputs": [
    {
     "data": {
      "text/plain": [
       "array([ nan,  6.9,  2.4,  6.3,  5.5,  5. ,  7.6,  6.8,  7.2,  7.4,  7.1,\n",
       "        5.4,  5.9,  5.8,  5.1,  4.8,  3.7,  5.3,  7.3,  7.9,  7.8,  7. ,\n",
       "        7.5,  6.6,  6.4,  5.7,  4. ,  6.1,  6.5,  3.1,  6.2,  5.6,  3.5,\n",
       "        6.7,  8.6,  3.6,  4.1,  8.5,  6. ,  8.1,  4.7,  2.3,  3.9,  8. ,\n",
       "        7.7,  8.9,  3.2,  8.2,  9. ,  4.4,  4.3,  4.6,  8.4,  3.3,  2.6,\n",
       "        2.8,  8.3,  4.9,  8.8,  3.4,  5.2,  1.9,  2.5,  4.5,  9.2,  3.8,\n",
       "        8.7,  2.9,  4.2,  9.1,  2.1,  9.7,  9.3,  3. ,  2. ,  1.2,  2.7,\n",
       "       10. ,  1.8,  9.4,  9.8,  1.4,  1. ,  1.3,  9.5,  9.6,  1.6,  2.2,\n",
       "        9.9,  1.5,  1.7,  1.1])"
      ]
     },
     "execution_count": 23,
     "metadata": {},
     "output_type": "execute_result"
    }
   ],
   "source": [
    "movies.imdbRating.unique()"
   ]
  },
  {
   "cell_type": "code",
   "execution_count": 24,
   "metadata": {},
   "outputs": [],
   "source": [
    "# Drop rows with missing or Nan values for imdbRating column\n",
    "movies = movies.dropna(subset=['imdbRating'])"
   ]
  },
  {
   "cell_type": "code",
   "execution_count": 25,
   "metadata": {},
   "outputs": [],
   "source": [
    "movies = movies.reset_index(drop=True)"
   ]
  },
  {
   "cell_type": "code",
   "execution_count": 26,
   "metadata": {},
   "outputs": [
    {
     "name": "stdout",
     "output_type": "stream",
     "text": [
      "<class 'pandas.core.frame.DataFrame'>\n",
      "RangeIndex: 62073 entries, 0 to 62072\n",
      "Data columns (total 11 columns):\n",
      "Country       59837 non-null object\n",
      "Director      58175 non-null object\n",
      "Language      57540 non-null object\n",
      "Released      49784 non-null object\n",
      "Runtime       53269 non-null object\n",
      "Title         62073 non-null object\n",
      "Type          62073 non-null object\n",
      "Year          62073 non-null Int16\n",
      "imdbID        62073 non-null object\n",
      "imdbRating    62073 non-null float64\n",
      "imdbVotes     62029 non-null object\n",
      "dtypes: Int16(1), float64(1), object(9)\n",
      "memory usage: 4.9+ MB\n"
     ]
    }
   ],
   "source": [
    "movies.info()"
   ]
  },
  {
   "cell_type": "markdown",
   "metadata": {},
   "source": [
    "### clean up  genres dataset"
   ]
  },
  {
   "cell_type": "code",
   "execution_count": 27,
   "metadata": {},
   "outputs": [
    {
     "data": {
      "text/html": [
       "<div>\n",
       "<style scoped>\n",
       "    .dataframe tbody tr th:only-of-type {\n",
       "        vertical-align: middle;\n",
       "    }\n",
       "\n",
       "    .dataframe tbody tr th {\n",
       "        vertical-align: top;\n",
       "    }\n",
       "\n",
       "    .dataframe thead th {\n",
       "        text-align: right;\n",
       "    }\n",
       "</style>\n",
       "<table border=\"1\" class=\"dataframe\">\n",
       "  <thead>\n",
       "    <tr style=\"text-align: right;\">\n",
       "      <th></th>\n",
       "      <th>Unnamed: 0</th>\n",
       "      <th>Genre</th>\n",
       "      <th>imdbID</th>\n",
       "    </tr>\n",
       "  </thead>\n",
       "  <tbody>\n",
       "    <tr>\n",
       "      <th>0</th>\n",
       "      <td>0</td>\n",
       "      <td>Short</td>\n",
       "      <td>tt2268369</td>\n",
       "    </tr>\n",
       "    <tr>\n",
       "      <th>1</th>\n",
       "      <td>1</td>\n",
       "      <td>Drama</td>\n",
       "      <td>tt2268369</td>\n",
       "    </tr>\n",
       "    <tr>\n",
       "      <th>2</th>\n",
       "      <td>2</td>\n",
       "      <td>Short</td>\n",
       "      <td>tt1560760</td>\n",
       "    </tr>\n",
       "    <tr>\n",
       "      <th>3</th>\n",
       "      <td>3</td>\n",
       "      <td>Drama</td>\n",
       "      <td>tt1560760</td>\n",
       "    </tr>\n",
       "    <tr>\n",
       "      <th>4</th>\n",
       "      <td>4</td>\n",
       "      <td>Drama</td>\n",
       "      <td>tt0016750</td>\n",
       "    </tr>\n",
       "  </tbody>\n",
       "</table>\n",
       "</div>"
      ],
      "text/plain": [
       "   Unnamed: 0   Genre     imdbID\n",
       "0           0   Short  tt2268369\n",
       "1           1   Drama  tt2268369\n",
       "2           2   Short  tt1560760\n",
       "3           3   Drama  tt1560760\n",
       "4           4   Drama  tt0016750"
      ]
     },
     "execution_count": 27,
     "metadata": {},
     "output_type": "execute_result"
    }
   ],
   "source": [
    "genres.head()"
   ]
  },
  {
   "cell_type": "code",
   "execution_count": 28,
   "metadata": {},
   "outputs": [
    {
     "data": {
      "text/html": [
       "<div>\n",
       "<style scoped>\n",
       "    .dataframe tbody tr th:only-of-type {\n",
       "        vertical-align: middle;\n",
       "    }\n",
       "\n",
       "    .dataframe tbody tr th {\n",
       "        vertical-align: top;\n",
       "    }\n",
       "\n",
       "    .dataframe thead th {\n",
       "        text-align: right;\n",
       "    }\n",
       "</style>\n",
       "<table border=\"1\" class=\"dataframe\">\n",
       "  <thead>\n",
       "    <tr style=\"text-align: right;\">\n",
       "      <th></th>\n",
       "      <th>Genre</th>\n",
       "      <th>imdbID</th>\n",
       "    </tr>\n",
       "  </thead>\n",
       "  <tbody>\n",
       "    <tr>\n",
       "      <th>0</th>\n",
       "      <td>Short</td>\n",
       "      <td>tt2268369</td>\n",
       "    </tr>\n",
       "    <tr>\n",
       "      <th>1</th>\n",
       "      <td>Drama</td>\n",
       "      <td>tt2268369</td>\n",
       "    </tr>\n",
       "    <tr>\n",
       "      <th>2</th>\n",
       "      <td>Short</td>\n",
       "      <td>tt1560760</td>\n",
       "    </tr>\n",
       "    <tr>\n",
       "      <th>3</th>\n",
       "      <td>Drama</td>\n",
       "      <td>tt1560760</td>\n",
       "    </tr>\n",
       "    <tr>\n",
       "      <th>4</th>\n",
       "      <td>Drama</td>\n",
       "      <td>tt0016750</td>\n",
       "    </tr>\n",
       "  </tbody>\n",
       "</table>\n",
       "</div>"
      ],
      "text/plain": [
       "    Genre     imdbID\n",
       "0   Short  tt2268369\n",
       "1   Drama  tt2268369\n",
       "2   Short  tt1560760\n",
       "3   Drama  tt1560760\n",
       "4   Drama  tt0016750"
      ]
     },
     "execution_count": 28,
     "metadata": {},
     "output_type": "execute_result"
    }
   ],
   "source": [
    "#drop Columns which are not necessary\n",
    "genres.drop(['Unnamed: 0'], axis = 1, inplace = True)\n",
    "genres.head()"
   ]
  },
  {
   "cell_type": "code",
   "execution_count": 29,
   "metadata": {},
   "outputs": [
    {
     "data": {
      "text/plain": [
       "56"
      ]
     },
     "execution_count": 29,
     "metadata": {},
     "output_type": "execute_result"
    }
   ],
   "source": [
    "genres.Genre.nunique()"
   ]
  },
  {
   "cell_type": "code",
   "execution_count": 30,
   "metadata": {},
   "outputs": [
    {
     "data": {
      "text/plain": [
       "array(['Short', ' Drama', 'Drama', ' Romance', 'Documentary', ' Short',\n",
       "       ' Crime', ' Comedy', ' Mystery', 'Sport', 'Horror', ' Thriller',\n",
       "       'Music', 'Comedy', ' Horror', 'Animation', ' Family', ' Sci-Fi',\n",
       "       'Adventure', 'Adult', ' War', ' Music', 'Western', 'Romance',\n",
       "       'Thriller', 'Crime', 'Fantasy', ' Biography', ' Action',\n",
       "       'Biography', ' Western', 'Reality-TV', 'Action', ' Adventure',\n",
       "       ' History', ' Documentary', ' News', ' Fantasy', ' Musical',\n",
       "       'History', 'Sci-Fi', ' Reality-TV', 'Family', ' Sport',\n",
       "       ' Animation', ' Adult', 'News', 'Musical', 'Mystery', ' Game-Show',\n",
       "       'Talk-Show', 'Film-Noir', ' Talk-Show', ' Film-Noir', 'War',\n",
       "       'Game-Show'], dtype=object)"
      ]
     },
     "execution_count": 30,
     "metadata": {},
     "output_type": "execute_result"
    }
   ],
   "source": [
    "genres.Genre.unique()"
   ]
  },
  {
   "cell_type": "code",
   "execution_count": 31,
   "metadata": {},
   "outputs": [],
   "source": [
    "#Cleanly format the Genre column\n",
    "genres.Genre = genres.Genre.apply(lambda x: x.strip()).astype(str)\n",
    "#genres = genres.reset_index(drop=True)"
   ]
  },
  {
   "cell_type": "code",
   "execution_count": 32,
   "metadata": {},
   "outputs": [
    {
     "data": {
      "text/plain": [
       "array(['Short', 'Drama', 'Romance', 'Documentary', 'Crime', 'Comedy',\n",
       "       'Mystery', 'Sport', 'Horror', 'Thriller', 'Music', 'Animation',\n",
       "       'Family', 'Sci-Fi', 'Adventure', 'Adult', 'War', 'Western',\n",
       "       'Fantasy', 'Biography', 'Action', 'Reality-TV', 'History', 'News',\n",
       "       'Musical', 'Game-Show', 'Talk-Show', 'Film-Noir'], dtype=object)"
      ]
     },
     "execution_count": 32,
     "metadata": {},
     "output_type": "execute_result"
    }
   ],
   "source": [
    "genres.Genre.unique()"
   ]
  },
  {
   "cell_type": "code",
   "execution_count": 33,
   "metadata": {},
   "outputs": [
    {
     "data": {
      "text/plain": [
       "28"
      ]
     },
     "execution_count": 33,
     "metadata": {},
     "output_type": "execute_result"
    }
   ],
   "source": [
    "genres.Genre.nunique()"
   ]
  },
  {
   "cell_type": "code",
   "execution_count": 34,
   "metadata": {},
   "outputs": [
    {
     "data": {
      "text/plain": [
       "0         False\n",
       "1         False\n",
       "2         False\n",
       "3         False\n",
       "4         False\n",
       "          ...  \n",
       "308560    False\n",
       "308561    False\n",
       "308562    False\n",
       "308563    False\n",
       "308564    False\n",
       "Length: 308565, dtype: bool"
      ]
     },
     "execution_count": 34,
     "metadata": {},
     "output_type": "execute_result"
    }
   ],
   "source": [
    "genres.duplicated()"
   ]
  },
  {
   "cell_type": "code",
   "execution_count": 35,
   "metadata": {},
   "outputs": [
    {
     "name": "stdout",
     "output_type": "stream",
     "text": [
      "<class 'pandas.core.frame.DataFrame'>\n",
      "RangeIndex: 308565 entries, 0 to 308564\n",
      "Data columns (total 2 columns):\n",
      "Genre     308565 non-null object\n",
      "imdbID    308565 non-null object\n",
      "dtypes: object(2)\n",
      "memory usage: 4.7+ MB\n"
     ]
    }
   ],
   "source": [
    "genres.info()"
   ]
  },
  {
   "cell_type": "markdown",
   "metadata": {},
   "source": [
    "### merge both movies & genres datasets"
   ]
  },
  {
   "cell_type": "code",
   "execution_count": 36,
   "metadata": {},
   "outputs": [],
   "source": [
    "data = pd.merge(movies, genres, on='imdbID')"
   ]
  },
  {
   "cell_type": "code",
   "execution_count": 37,
   "metadata": {},
   "outputs": [
    {
     "name": "stdout",
     "output_type": "stream",
     "text": [
      "<class 'pandas.core.frame.DataFrame'>\n",
      "Int64Index: 111552 entries, 0 to 111551\n",
      "Data columns (total 12 columns):\n",
      "Country       107958 non-null object\n",
      "Director      105986 non-null object\n",
      "Language      104251 non-null object\n",
      "Released      92127 non-null object\n",
      "Runtime       99676 non-null object\n",
      "Title         111552 non-null object\n",
      "Type          111552 non-null object\n",
      "Year          111552 non-null Int16\n",
      "imdbID        111552 non-null object\n",
      "imdbRating    111552 non-null float64\n",
      "imdbVotes     111484 non-null object\n",
      "Genre         111552 non-null object\n",
      "dtypes: Int16(1), float64(1), object(10)\n",
      "memory usage: 10.5+ MB\n"
     ]
    }
   ],
   "source": [
    "data.info()"
   ]
  },
  {
   "cell_type": "markdown",
   "metadata": {},
   "source": [
    "## Analysis questions"
   ]
  },
  {
   "cell_type": "markdown",
   "metadata": {},
   "source": [
    "### 1: Can we identify a hype of some Genre over the last decades?"
   ]
  },
  {
   "cell_type": "code",
   "execution_count": 44,
   "metadata": {},
   "outputs": [
    {
     "data": {
      "text/plain": [
       "array(['Documentary', 'Short', 'Horror', 'Thriller', 'Music', 'Comedy',\n",
       "       'Romance', 'Animation', 'Drama', 'Family', 'Adventure', 'Adult',\n",
       "       'Western', 'Crime', 'Fantasy', 'Biography', 'Sci-Fi', 'Action',\n",
       "       'Sport', 'News', 'War', 'Mystery', 'History', 'Musical',\n",
       "       'Game-Show', 'Film-Noir', 'Reality-TV', 'Talk-Show'], dtype=object)"
      ]
     },
     "execution_count": 44,
     "metadata": {},
     "output_type": "execute_result"
    }
   ],
   "source": [
    "data.Genre.unique()"
   ]
  },
  {
   "cell_type": "code",
   "execution_count": 56,
   "metadata": {},
   "outputs": [
    {
     "name": "stdout",
     "output_type": "stream",
     "text": [
      "(28, 2)\n",
      "          Genre  imdbID\n",
      "0        Action    5284\n",
      "1         Adult    2474\n",
      "2     Adventure    3649\n",
      "3     Animation    3547\n",
      "4     Biography    1868\n",
      "5        Comedy   14824\n",
      "6         Crime    4218\n",
      "7   Documentary   11015\n",
      "8         Drama   19992\n",
      "9        Family    3142\n",
      "10      Fantasy    2006\n",
      "11    Film-Noir     155\n",
      "12    Game-Show      35\n",
      "13      History    1323\n",
      "14       Horror    4124\n",
      "15        Music    3063\n",
      "16      Musical     980\n",
      "17      Mystery    2002\n",
      "18         News     194\n",
      "19   Reality-TV     169\n",
      "20      Romance    5003\n",
      "21       Sci-Fi    1823\n",
      "22        Short   13642\n",
      "23        Sport    1073\n",
      "24    Talk-Show      45\n",
      "25     Thriller    3993\n",
      "26          War     995\n",
      "27      Western     914\n"
     ]
    }
   ],
   "source": [
    "genGroups = data.groupby('Genre')['imdbID'].count().reset_index()\n",
    "print(genGroups.shape)\n",
    "print(genGroups)"
   ]
  },
  {
   "cell_type": "code",
   "execution_count": 57,
   "metadata": {},
   "outputs": [
    {
     "name": "stdout",
     "output_type": "stream",
     "text": [
      "          Genre  imdbID\n",
      "8         Drama   19992\n",
      "5        Comedy   14824\n",
      "22        Short   13642\n",
      "7   Documentary   11015\n",
      "0        Action    5284\n",
      "20      Romance    5003\n",
      "6         Crime    4218\n",
      "14       Horror    4124\n",
      "25     Thriller    3993\n",
      "2     Adventure    3649\n",
      "3     Animation    3547\n",
      "9        Family    3142\n",
      "15        Music    3063\n",
      "1         Adult    2474\n",
      "10      Fantasy    2006\n",
      "17      Mystery    2002\n",
      "4     Biography    1868\n",
      "21       Sci-Fi    1823\n",
      "13      History    1323\n",
      "23        Sport    1073\n",
      "26          War     995\n",
      "16      Musical     980\n",
      "27      Western     914\n",
      "18         News     194\n",
      "19   Reality-TV     169\n",
      "11    Film-Noir     155\n",
      "24    Talk-Show      45\n",
      "12    Game-Show      35\n"
     ]
    }
   ],
   "source": [
    "genGroups.sort_values('imdbID', ascending = False, inplace = True)\n",
    "print(genGroups)"
   ]
  },
  {
   "cell_type": "code",
   "execution_count": 60,
   "metadata": {},
   "outputs": [
    {
     "name": "stdout",
     "output_type": "stream",
     "text": [
      "          Genre  imdbID\n",
      "8         Drama   19992\n",
      "5        Comedy   14824\n",
      "22        Short   13642\n",
      "7   Documentary   11015\n",
      "0        Action    5284\n",
      "20      Romance    5003\n",
      "6         Crime    4218\n",
      "14       Horror    4124\n",
      "25     Thriller    3993\n",
      "2     Adventure    3649\n"
     ]
    }
   ],
   "source": [
    "top10Genre = genGroups.head(10)\n",
    "print(top10Genre)"
   ]
  },
  {
   "cell_type": "code",
   "execution_count": 63,
   "metadata": {},
   "outputs": [
    {
     "name": "stdout",
     "output_type": "stream",
     "text": [
      "['Drama', 'Comedy', 'Short', 'Documentary', 'Action', 'Romance', 'Crime', 'Horror', 'Thriller', 'Adventure']\n"
     ]
    }
   ],
   "source": [
    "top10GenreList = top10Genre.Genre.to_list()\n",
    "print(top10GenreList)"
   ]
  },
  {
   "cell_type": "code",
   "execution_count": 66,
   "metadata": {},
   "outputs": [
    {
     "name": "stdout",
     "output_type": "stream",
     "text": [
      "Before filter dataset size is (111552, 12)\n",
      "After filter dataset size is (85744, 12)\n"
     ]
    }
   ],
   "source": [
    "#Filter dataset for 10 top genre\n",
    "print(f'Before filter dataset size is {data.shape}')\n",
    "dataTop10Genre = data[data.Genre.isin(top10GenreList)]\n",
    "print(f'After filter dataset size is {dataTop10Genre.shape}')"
   ]
  },
  {
   "cell_type": "code",
   "execution_count": 72,
   "metadata": {},
   "outputs": [],
   "source": [
    "yearGenre = dataTop10Genre.groupby(['Year', 'Genre'])"
   ]
  },
  {
   "cell_type": "markdown",
   "metadata": {},
   "source": [
    "#### Review in which timeframe we have the most Hits\n",
    "Due to the improvement of the given Dataset which also contains movie before the year 1990 - I´d like to make sure that further analysis on the rating of a movie is not misunderstood because of too less input."
   ]
  },
  {
   "cell_type": "code",
   "execution_count": 75,
   "metadata": {},
   "outputs": [],
   "source": [
    "yearMovieCount = dataTop10Genre.groupby(['Year'])['imdbID'].count()"
   ]
  },
  {
   "cell_type": "code",
   "execution_count": 76,
   "metadata": {},
   "outputs": [
    {
     "data": {
      "text/plain": [
       "Year\n",
       "1889       3\n",
       "1890       3\n",
       "1891       2\n",
       "1894      15\n",
       "1895      19\n",
       "        ... \n",
       "2014    3320\n",
       "2015    2782\n",
       "2016    2393\n",
       "2017    1639\n",
       "2018     125\n",
       "Name: imdbID, Length: 128, dtype: int64"
      ]
     },
     "execution_count": 76,
     "metadata": {},
     "output_type": "execute_result"
    }
   ],
   "source": [
    "yearMovieCount"
   ]
  },
  {
   "cell_type": "code",
   "execution_count": 79,
   "metadata": {},
   "outputs": [],
   "source": [
    "# The output looks good for the timeseries for years 1990 - 2016. I´ll be filtering for this Timeframe\n",
    "data26Years = data[(dataTop10Genre.Year >= 1990) & (data.Year <= 2016)]"
   ]
  },
  {
   "cell_type": "code",
   "execution_count": 80,
   "metadata": {},
   "outputs": [],
   "source": [
    "yearGenre = data26Years.groupby(['Year', 'Genre'])"
   ]
  },
  {
   "cell_type": "code",
   "execution_count": 83,
   "metadata": {},
   "outputs": [
    {
     "data": {
      "text/html": [
       "<div>\n",
       "<style scoped>\n",
       "    .dataframe tbody tr th:only-of-type {\n",
       "        vertical-align: middle;\n",
       "    }\n",
       "\n",
       "    .dataframe tbody tr th {\n",
       "        vertical-align: top;\n",
       "    }\n",
       "\n",
       "    .dataframe thead th {\n",
       "        text-align: right;\n",
       "    }\n",
       "</style>\n",
       "<table border=\"1\" class=\"dataframe\">\n",
       "  <thead>\n",
       "    <tr style=\"text-align: right;\">\n",
       "      <th></th>\n",
       "      <th>Country</th>\n",
       "      <th>Director</th>\n",
       "      <th>Language</th>\n",
       "      <th>Released</th>\n",
       "      <th>Runtime</th>\n",
       "      <th>Title</th>\n",
       "      <th>Type</th>\n",
       "      <th>Year</th>\n",
       "      <th>imdbID</th>\n",
       "      <th>imdbRating</th>\n",
       "      <th>imdbVotes</th>\n",
       "      <th>Genre</th>\n",
       "    </tr>\n",
       "  </thead>\n",
       "  <tbody>\n",
       "    <tr>\n",
       "      <th>0</th>\n",
       "      <td>USA</td>\n",
       "      <td>NaN</td>\n",
       "      <td>English</td>\n",
       "      <td>NaN</td>\n",
       "      <td>10 min</td>\n",
       "      <td>Beyond Batman: Visualizing Gotham - The Produc...</td>\n",
       "      <td>movie</td>\n",
       "      <td>2005</td>\n",
       "      <td>tt1006835</td>\n",
       "      <td>6.9</td>\n",
       "      <td>35</td>\n",
       "      <td>Documentary</td>\n",
       "    </tr>\n",
       "    <tr>\n",
       "      <th>1</th>\n",
       "      <td>USA</td>\n",
       "      <td>NaN</td>\n",
       "      <td>English</td>\n",
       "      <td>NaN</td>\n",
       "      <td>10 min</td>\n",
       "      <td>Beyond Batman: Visualizing Gotham - The Produc...</td>\n",
       "      <td>movie</td>\n",
       "      <td>2005</td>\n",
       "      <td>tt1006835</td>\n",
       "      <td>6.9</td>\n",
       "      <td>35</td>\n",
       "      <td>Short</td>\n",
       "    </tr>\n",
       "    <tr>\n",
       "      <th>2</th>\n",
       "      <td>USA</td>\n",
       "      <td>Matt Hish</td>\n",
       "      <td>English</td>\n",
       "      <td>01 Feb 2014</td>\n",
       "      <td>97 min</td>\n",
       "      <td>Haunting of the Innocent</td>\n",
       "      <td>movie</td>\n",
       "      <td>2014</td>\n",
       "      <td>tt2554714</td>\n",
       "      <td>2.4</td>\n",
       "      <td>345</td>\n",
       "      <td>Horror</td>\n",
       "    </tr>\n",
       "    <tr>\n",
       "      <th>3</th>\n",
       "      <td>USA</td>\n",
       "      <td>Matt Hish</td>\n",
       "      <td>English</td>\n",
       "      <td>01 Feb 2014</td>\n",
       "      <td>97 min</td>\n",
       "      <td>Haunting of the Innocent</td>\n",
       "      <td>movie</td>\n",
       "      <td>2014</td>\n",
       "      <td>tt2554714</td>\n",
       "      <td>2.4</td>\n",
       "      <td>345</td>\n",
       "      <td>Thriller</td>\n",
       "    </tr>\n",
       "    <tr>\n",
       "      <th>5</th>\n",
       "      <td>China</td>\n",
       "      <td>Fendou Liu</td>\n",
       "      <td>Mandarin</td>\n",
       "      <td>24 Jun 2011</td>\n",
       "      <td>93 min</td>\n",
       "      <td>The Pretending Lovers</td>\n",
       "      <td>movie</td>\n",
       "      <td>2011</td>\n",
       "      <td>tt1990255</td>\n",
       "      <td>5.5</td>\n",
       "      <td>43</td>\n",
       "      <td>Comedy</td>\n",
       "    </tr>\n",
       "    <tr>\n",
       "      <th>...</th>\n",
       "      <td>...</td>\n",
       "      <td>...</td>\n",
       "      <td>...</td>\n",
       "      <td>...</td>\n",
       "      <td>...</td>\n",
       "      <td>...</td>\n",
       "      <td>...</td>\n",
       "      <td>...</td>\n",
       "      <td>...</td>\n",
       "      <td>...</td>\n",
       "      <td>...</td>\n",
       "      <td>...</td>\n",
       "    </tr>\n",
       "    <tr>\n",
       "      <th>25477</th>\n",
       "      <td>USA</td>\n",
       "      <td>Dan Poole</td>\n",
       "      <td>English</td>\n",
       "      <td>NaN</td>\n",
       "      <td>46 min</td>\n",
       "      <td>The Green Goblin's Last Stand</td>\n",
       "      <td>movie</td>\n",
       "      <td>1992</td>\n",
       "      <td>tt0360619</td>\n",
       "      <td>7.0</td>\n",
       "      <td>102</td>\n",
       "      <td>Adventure</td>\n",
       "    </tr>\n",
       "    <tr>\n",
       "      <th>25778</th>\n",
       "      <td>USA</td>\n",
       "      <td>Bill Phillips</td>\n",
       "      <td>English</td>\n",
       "      <td>30 Oct 1992</td>\n",
       "      <td>88 min</td>\n",
       "      <td>There Goes the Neighborhood</td>\n",
       "      <td>movie</td>\n",
       "      <td>1992</td>\n",
       "      <td>tt0105573</td>\n",
       "      <td>5.8</td>\n",
       "      <td>892</td>\n",
       "      <td>Crime</td>\n",
       "    </tr>\n",
       "    <tr>\n",
       "      <th>25824</th>\n",
       "      <td>USA</td>\n",
       "      <td>Luis Mandoki</td>\n",
       "      <td>English</td>\n",
       "      <td>26 Mar 1993</td>\n",
       "      <td>100 min</td>\n",
       "      <td>Born Yesterday</td>\n",
       "      <td>movie</td>\n",
       "      <td>1993</td>\n",
       "      <td>tt0106466</td>\n",
       "      <td>5.1</td>\n",
       "      <td>3,288</td>\n",
       "      <td>Romance</td>\n",
       "    </tr>\n",
       "    <tr>\n",
       "      <th>27405</th>\n",
       "      <td>USA</td>\n",
       "      <td>Jerry Rees</td>\n",
       "      <td>English</td>\n",
       "      <td>NaN</td>\n",
       "      <td>NaN</td>\n",
       "      <td>Extra Terrorestrial Alien Encounter</td>\n",
       "      <td>movie</td>\n",
       "      <td>1994</td>\n",
       "      <td>tt0819365</td>\n",
       "      <td>8.2</td>\n",
       "      <td>51</td>\n",
       "      <td>Horror</td>\n",
       "    </tr>\n",
       "    <tr>\n",
       "      <th>32543</th>\n",
       "      <td>NaN</td>\n",
       "      <td>Cheh Chang</td>\n",
       "      <td>Mandarin</td>\n",
       "      <td>27 Apr 2008</td>\n",
       "      <td>92 min</td>\n",
       "      <td>Ninja in Ancient China</td>\n",
       "      <td>movie</td>\n",
       "      <td>1993</td>\n",
       "      <td>tt0097984</td>\n",
       "      <td>4.5</td>\n",
       "      <td>25</td>\n",
       "      <td>Adventure</td>\n",
       "    </tr>\n",
       "  </tbody>\n",
       "</table>\n",
       "<p>1350 rows × 12 columns</p>\n",
       "</div>"
      ],
      "text/plain": [
       "      Country       Director  Language     Released  Runtime  \\\n",
       "0         USA            NaN   English          NaN   10 min   \n",
       "1         USA            NaN   English          NaN   10 min   \n",
       "2         USA      Matt Hish   English  01 Feb 2014   97 min   \n",
       "3         USA      Matt Hish   English  01 Feb 2014   97 min   \n",
       "5       China     Fendou Liu  Mandarin  24 Jun 2011   93 min   \n",
       "...       ...            ...       ...          ...      ...   \n",
       "25477     USA      Dan Poole   English          NaN   46 min   \n",
       "25778     USA  Bill Phillips   English  30 Oct 1992   88 min   \n",
       "25824     USA   Luis Mandoki   English  26 Mar 1993  100 min   \n",
       "27405     USA     Jerry Rees   English          NaN      NaN   \n",
       "32543     NaN     Cheh Chang  Mandarin  27 Apr 2008   92 min   \n",
       "\n",
       "                                                   Title   Type  Year  \\\n",
       "0      Beyond Batman: Visualizing Gotham - The Produc...  movie  2005   \n",
       "1      Beyond Batman: Visualizing Gotham - The Produc...  movie  2005   \n",
       "2                               Haunting of the Innocent  movie  2014   \n",
       "3                               Haunting of the Innocent  movie  2014   \n",
       "5                                  The Pretending Lovers  movie  2011   \n",
       "...                                                  ...    ...   ...   \n",
       "25477                      The Green Goblin's Last Stand  movie  1992   \n",
       "25778                        There Goes the Neighborhood  movie  1992   \n",
       "25824                                     Born Yesterday  movie  1993   \n",
       "27405                Extra Terrorestrial Alien Encounter  movie  1994   \n",
       "32543                             Ninja in Ancient China  movie  1993   \n",
       "\n",
       "          imdbID  imdbRating imdbVotes        Genre  \n",
       "0      tt1006835         6.9        35  Documentary  \n",
       "1      tt1006835         6.9        35        Short  \n",
       "2      tt2554714         2.4       345       Horror  \n",
       "3      tt2554714         2.4       345     Thriller  \n",
       "5      tt1990255         5.5        43       Comedy  \n",
       "...          ...         ...       ...          ...  \n",
       "25477  tt0360619         7.0       102    Adventure  \n",
       "25778  tt0105573         5.8       892        Crime  \n",
       "25824  tt0106466         5.1     3,288      Romance  \n",
       "27405  tt0819365         8.2        51       Horror  \n",
       "32543  tt0097984         4.5        25    Adventure  \n",
       "\n",
       "[1350 rows x 12 columns]"
      ]
     },
     "execution_count": 83,
     "metadata": {},
     "output_type": "execute_result"
    }
   ],
   "source": [
    "yearGenre.head()"
   ]
  },
  {
   "cell_type": "code",
   "execution_count": 82,
   "metadata": {},
   "outputs": [
    {
     "data": {
      "text/html": [
       "<div>\n",
       "<style scoped>\n",
       "    .dataframe tbody tr th:only-of-type {\n",
       "        vertical-align: middle;\n",
       "    }\n",
       "\n",
       "    .dataframe tbody tr th {\n",
       "        vertical-align: top;\n",
       "    }\n",
       "\n",
       "    .dataframe thead th {\n",
       "        text-align: right;\n",
       "    }\n",
       "</style>\n",
       "<table border=\"1\" class=\"dataframe\">\n",
       "  <thead>\n",
       "    <tr style=\"text-align: right;\">\n",
       "      <th></th>\n",
       "      <th>Year</th>\n",
       "      <th>Genre</th>\n",
       "      <th>imdbRating</th>\n",
       "    </tr>\n",
       "  </thead>\n",
       "  <tbody>\n",
       "    <tr>\n",
       "      <th>0</th>\n",
       "      <td>1990</td>\n",
       "      <td>Action</td>\n",
       "      <td>5.718085</td>\n",
       "    </tr>\n",
       "    <tr>\n",
       "      <th>1</th>\n",
       "      <td>1990</td>\n",
       "      <td>Adventure</td>\n",
       "      <td>6.242857</td>\n",
       "    </tr>\n",
       "    <tr>\n",
       "      <th>2</th>\n",
       "      <td>1990</td>\n",
       "      <td>Comedy</td>\n",
       "      <td>5.980702</td>\n",
       "    </tr>\n",
       "    <tr>\n",
       "      <th>3</th>\n",
       "      <td>1990</td>\n",
       "      <td>Crime</td>\n",
       "      <td>6.083333</td>\n",
       "    </tr>\n",
       "    <tr>\n",
       "      <th>4</th>\n",
       "      <td>1990</td>\n",
       "      <td>Documentary</td>\n",
       "      <td>7.303333</td>\n",
       "    </tr>\n",
       "    <tr>\n",
       "      <th>...</th>\n",
       "      <td>...</td>\n",
       "      <td>...</td>\n",
       "      <td>...</td>\n",
       "    </tr>\n",
       "    <tr>\n",
       "      <th>265</th>\n",
       "      <td>2016</td>\n",
       "      <td>Drama</td>\n",
       "      <td>6.658507</td>\n",
       "    </tr>\n",
       "    <tr>\n",
       "      <th>266</th>\n",
       "      <td>2016</td>\n",
       "      <td>Horror</td>\n",
       "      <td>5.253448</td>\n",
       "    </tr>\n",
       "    <tr>\n",
       "      <th>267</th>\n",
       "      <td>2016</td>\n",
       "      <td>Romance</td>\n",
       "      <td>6.270213</td>\n",
       "    </tr>\n",
       "    <tr>\n",
       "      <th>268</th>\n",
       "      <td>2016</td>\n",
       "      <td>Short</td>\n",
       "      <td>7.329204</td>\n",
       "    </tr>\n",
       "    <tr>\n",
       "      <th>269</th>\n",
       "      <td>2016</td>\n",
       "      <td>Thriller</td>\n",
       "      <td>5.732558</td>\n",
       "    </tr>\n",
       "  </tbody>\n",
       "</table>\n",
       "<p>270 rows × 3 columns</p>\n",
       "</div>"
      ],
      "text/plain": [
       "     Year        Genre  imdbRating\n",
       "0    1990       Action    5.718085\n",
       "1    1990    Adventure    6.242857\n",
       "2    1990       Comedy    5.980702\n",
       "3    1990        Crime    6.083333\n",
       "4    1990  Documentary    7.303333\n",
       "..    ...          ...         ...\n",
       "265  2016        Drama    6.658507\n",
       "266  2016       Horror    5.253448\n",
       "267  2016      Romance    6.270213\n",
       "268  2016        Short    7.329204\n",
       "269  2016     Thriller    5.732558\n",
       "\n",
       "[270 rows x 3 columns]"
      ]
     },
     "execution_count": 82,
     "metadata": {},
     "output_type": "execute_result"
    }
   ],
   "source": [
    "yearGenre['imdbRating'].mean().reset_index()"
   ]
  },
  {
   "cell_type": "code",
   "execution_count": 81,
   "metadata": {},
   "outputs": [
    {
     "data": {
      "text/plain": [
       "<matplotlib.axes._subplots.AxesSubplot at 0x133191150>"
      ]
     },
     "execution_count": 81,
     "metadata": {},
     "output_type": "execute_result"
    },
    {
     "data": {
      "image/png": "[encoded data removed]",
      "text/plain": [
       "<Figure size 1296x648 with 1 Axes>"
      ]
     },
     "metadata": {
      "needs_background": "light"
     },
     "output_type": "display_data"
    }
   ],
   "source": [
    "fig, ax = plt.subplots()\n",
    "\n",
    "fig.set_size_inches(18, 9)\n",
    "sns.pointplot(x = 'Year', y = 'imdbRating', data = yearGenre['imdbRating'].mean().reset_index(), hue = 'Genre', ax = ax)"
   ]
  },
  {
   "cell_type": "markdown",
   "metadata": {},
   "source": [
    "#### First Impression\n",
    "Short and Documentary Movies have been seeing an Up in the last years."
   ]
  },
  {
   "cell_type": "code",
   "execution_count": null,
   "metadata": {},
   "outputs": [],
   "source": []
  }
 ],
 "metadata": {
  "kernelspec": {
   "display_name": "Python [conda env:gis] *",
   "language": "python",
   "name": "conda-env-gis-py"
  },
  "language_info": {
   "codemirror_mode": {
    "name": "ipython",
    "version": 3
   },
   "file_extension": ".py",
   "mimetype": "text/x-python",
   "name": "python",
   "nbconvert_exporter": "python",
   "pygments_lexer": "ipython3",
   "version": "3.7.6"
  },
  "toc": {
   "base_numbering": 1,
   "nav_menu": {},
   "number_sections": false,
   "sideBar": true,
   "skip_h1_title": false,
   "title_cell": "Table of Contents",
   "title_sidebar": "Contents",
   "toc_cell": false,
   "toc_position": {},
   "toc_section_display": true,
   "toc_window_display": false
  }
 },
 "nbformat": 4,
 "nbformat_minor": 2
}
