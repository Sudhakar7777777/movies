{
 "cells": [
  {
   "cell_type": "markdown",
   "metadata": {},
   "source": [
    "# Problem Statement\n",
    "\n",
    "Let’s take the studio Fox, which produces various forms of ‘moving picture’ content, such as television, movies, etc. Your task is to answer the following three questions:\n",
    " \n",
    "\n",
    "1. **How would you categorize the various types of content? Limit yourself to a maximum of 6 categories. A content type may fall into only one category. Please provide as rigorous a definition as possible.** \n",
    "\n",
    "\n",
    "2. **Which pieces of content might be difficult to categorize? Please provide concrete examples.**\n",
    "\n",
    "\n",
    "3. **Let’s take the following title The Devil’s Double. Here it is in Japan/Japanese and in US/English. Explain and demonstrate a very basic schema / data structure that would adequately define a title on a retailer, taking into account Language, Country, and Type. How would you store the data?**\n",
    " \n",
    "\n",
    "There isn’t a single correct answer for the above scenario. The above is to see how you might approach a data challenge, explaining your thought process and a bit about high level technical implementation."
   ]
  },
  {
   "cell_type": "markdown",
   "metadata": {},
   "source": [
    "## Clarification:\n",
    "\n",
    "Is there any attachment or data files associated with this assignment? If none, am I supposed to answer them based on generic understanding of Movie domain or make my own assumptions?\n",
    "\n",
    "==> Yes, exactly: I'd like you to make your own assumptions, and then just explain how you've come to those assumptions and conclusions. I don't think there's really a 'correct answer' per se, I'd just like to see how you'd work through a problem.\n",
    "\n",
    "For example, the question related to how to categorize the various types of content?  What is the purpose or goals to categorizing the content?\n",
    "\n",
    "==> Yes, I would say all of the above. For example, for the sales or marketing department being able to easily perform analytics or marketing on a title or group of titles."
   ]
  },
  {
   "cell_type": "markdown",
   "metadata": {},
   "source": [
    "# <font color='green'>Solution:</font>"
   ]
  },
  {
   "cell_type": "markdown",
   "metadata": {},
   "source": [
    "#### Who is Studio Fox?\n",
    "\n",
    "[Fox Studio's wikipedia](https://en.wikipedia.org/wiki/Fox_Studios)\n",
    "\n",
    "Current name of Company is **20th Century Studios**.  [wiki](https://en.wikipedia.org/wiki/20th_Century_Studios)\n",
    "Produce content for Television, Music, Radio, Movies, etc.  Fox International Productions was the division of 20th Century Fox in charge of local production in 12 territories in China, Europe, India and Latin America from 2008 to 2017.  Their box office movies list is available [here](https://www.the-numbers.com/movies/production-company/20th-Century-Fox).\n",
    "\n",
    "So, the content in target for US and Internation market.  English and other languages."
   ]
  },
  {
   "cell_type": "markdown",
   "metadata": {},
   "source": [
    "## 1. How would you categorize the various types of content? \n",
    "* Limit yourself to a maximum of 6 categories. \n",
    "* A content type may fall into only one category. Please provide as rigorous a definition as possible. "
   ]
  },
  {
   "cell_type": "markdown",
   "metadata": {},
   "source": [
    "### There are the options I researched or explored..."
   ]
  },
  {
   "cell_type": "markdown",
   "metadata": {},
   "source": [
    "### (A) Is movie category same as Film Genre?  Can this be directly mapped?\n",
    "\n",
    "A [film genre](https://en.wikipedia.org/wiki/Film_genre) is a motion-picture category based (for example) on similarities either in the narrative elements or in the emotional response to the film\n",
    "\n",
    "Genre is the term for any category of literature or other forms of art or entertainment.\n",
    "* Literacy Genre: Per [wikipedia](https://en.wikipedia.org/wiki/List_of_genres#Literary_genres) there could be 23 types of Literary geners.  \n",
    "* Film Genre: Per [wikipedia](https://en.wikipedia.org/wiki/Category:Film_genres) there are too many of them.  And per studiobinder [blog](https://www.studiobinder.com/blog/movie-genres-list/) the movie Genres list can be confined to top 14.\n",
    "\n",
    "Top 14 Film Genre:\n",
    "1. Action Genre\n",
    "1. Animation Genre\n",
    "1. Comedy Genre\n",
    "1. Crime Genre\n",
    "1. Drama Genre\n",
    "1. Experimental Genre\n",
    "1. Fantasy Genre\n",
    "1. Historical Genre\n",
    "1. Horror Genre\n",
    "1. Romance Genre\n",
    "1. Science Fiction Genre\n",
    "1. Thriller Genre\n",
    "1. Western Genre\n",
    "1. Other Genres\n",
    "\n",
    "IMDB defines Genre as - \"*Genre is a category of artistic composition, characterized by similarities in form, style, or subject matter.*\"  Defines [here](https://help.imdb.com/article/contribution/titles/genres/GZDRMS6R742JRGAG#)  about 28 main genres.  And each genre could be Objective Genres or Subjective Genres.\n",
    "\n",
    "*Genre* = **Story (Action) + Plot + Character + Setting**\n",
    "\n",
    "\n",
    "And finally, a movie could be of hybrid type, mapped to more than one Genre.  Eg: Action & Adventure, SciFi & Drama, SciFi & Comedy, etc.  So in theory, this could be list.\n",
    "\n",
    "Movie = [Genre1, Genre2, ...]\n",
    "\n",
    "**With max limit of 6 categories film genre can't be directly mapped.**"
   ]
  },
  {
   "cell_type": "markdown",
   "metadata": {},
   "source": [
    "### (B) Can we reduce the Genre list from top14 to < 6 using the data from last 25 years of domestic films produced?\n",
    "\n",
    "Here is the market share of 25 years of domestic movies by [Genre](https://www.the-numbers.com/market/genres).\n",
    "\n",
    "Note: This also assumes, each movie is mapped with only one Genre.  \n",
    "*This is hard to achieve based on Genre being Subjective or Objective.*\n",
    "\n",
    "| Rank\t| Genre\t| Movies\n",
    "| :---: |    :----   | ---: |\n",
    "| 1 \t| Adventure \t| 1,063 | \n",
    "| 2 \t| Action \t| 1,044 \n",
    "| 3 \t| Drama \t| 5,381 \n",
    "| 4 \t| Comedy \t| 2,371 \n",
    "| 5 \t| Thriller/Suspense \t| 1,143 \n",
    "| 6 \t| Horror \t| 638 \n",
    "| 7 \t| Romantic Comedy \t| 604 \n",
    "| 8 \t| Musical \t| 188 \n",
    "| 9 \t| Documentary \t| 2,356 \n",
    "| 10 \t| Black Comedy \t| 190 \n",
    "| 11 \t| Western \t| 84 \n",
    "| 12 \t| Concert/Performance \t| 76\n",
    "| 13 \t| Multiple Genres \t| 44\n",
    "| 14 \t| Reality \t| 4\n",
    "\n",
    "\n",
    "One approach we could try is keep top 5 Genres from the above list and group rest of others to another category.\n",
    "\n",
    "Example:\n",
    "Category = **{\n",
    "Action Adventure,\n",
    "Drama,\n",
    "Comedy,\n",
    "Thriller/Suspense,\n",
    "Documentary,\n",
    "Others\n",
    "}**\n"
   ]
  },
  {
   "cell_type": "markdown",
   "metadata": {},
   "source": [
    "### (C) Can we structure Genres in the form of Main Genres and Sub-Genres and use them to categorize movies?\n",
    "\n",
    "Per [filmsite](https://www.filmsite.org/filmgenres.html) this structure already exist.  Still, there are about 11 [main film Genres](https://www.filmsite.org/genres.html) and there are 16 [Sub-Genres](https://www.filmsite.org/subgenres.html) with 9 [other catories](https://www.filmsite.org/genres2.html) exist today.\n",
    "\n",
    "**In summary, this approach is no good as well.**"
   ]
  },
  {
   "cell_type": "markdown",
   "metadata": {},
   "source": [
    "### (D) Is there an alternate solution to categorizing movies using Genres?\n",
    "\n",
    "The Auteur System can be contrasted to the genre system, in which films are rated on the basis of the expression of one person, usually the director, because his/her indelible style, authoring vision or 'signature' dictates the personality, look, and feel of the film. \n",
    "\n",
    "That said, **this is not useful in anyway to group them with list of 6 categories.**"
   ]
  },
  {
   "cell_type": "markdown",
   "metadata": {},
   "source": [
    "### (E) Creative solution\n",
    "\n",
    "Based on theories found so far, as you can see there is no easy way to categories movies.  More over there are lot more things we have not looked at yet.  \n",
    "\n",
    "Example: \n",
    "* Content produce for Domestic vs. International market.  \n",
    "* Content Language like en-US, [ta-IN](http://www.lingoes.net/en/translator/langcode.htm), etc.\n",
    "* Content methods like Action vs. Animation, etc.\n",
    "* Content types like Movies vs. TV vs. Sports vs. Music, etc.\n",
    "\n",
    "**A creative solution to solve categoring movies would be to use a composite structure.**  That includes attributes like - Market, Country, Language, Genre1 (Main), Genre2 (Sub or Hybrid), Type (Movie, TV, Music, etc.)\n",
    "\n",
    "Sample records:\n",
    "```\n",
    "{\n",
    "    \"1\": {\n",
    "        Market: 'International',\n",
    "        Country: 'India',\n",
    "        Language: 'ta-IN',\n",
    "        Genre1: 'Drama',\n",
    "        Genre2: 'Comedy',\n",
    "        Type: 'Movie'\n",
    "    },\n",
    "    \"2\": {\n",
    "        Market: 'Domestic',\n",
    "        Country: 'US',\n",
    "        Language: 'en-us',\n",
    "        Genre1: 'Action',\n",
    "        Genre2: 'Comedy',\n",
    "        Type: 'Movie'\n",
    "    }\n",
    "}\n",
    "```\n",
    "\n",
    "That said, this is no good either based on given constraints.  Becoz the number of result categories would be lot more than 6, but each content would be exactly mapped to one of result category."
   ]
  },
  {
   "cell_type": "markdown",
   "metadata": {},
   "source": [
    "### <font color='green'>Conclusion:</font>\n",
    "\n",
    "Use the **option (B)** if the categories can be no more than 6.  By condencing categories to limit of 6, we are generalizing the content too much.  So the metrics derived out of this solution would not be much value.\n",
    "\n",
    "Alternatively, using **option (E)** each content can be exactly mapped to a bucket.  With the limitation, there could be still disputes about Genre1 vs. Genre2 classification.  \n",
    "**Note:**\n",
    "* The list of all possible combinations would be mapped to category table.\n",
    "* And each movie record would be mapped to the index number of the composite category table.  \n",
    "    * Doing this would help during the data analysis phase to generate analytics or draw insights for marketing on titles.\n",
    "\n",
    "*PS:* I always wondered why the Amazon prime has one category called \"International\" and I have no way to get the desired movie from the collection. "
   ]
  },
  {
   "cell_type": "markdown",
   "metadata": {},
   "source": [
    "## 2. Which pieces of content might be difficult to categorize? Please provide concrete examples."
   ]
  },
  {
   "cell_type": "markdown",
   "metadata": {},
   "source": [
    "As described above Genre seems be the one which is debatable as some of them are Subjective.  \n",
    "\n",
    "And there are movies with hybrid model with has more than one Genres.  \n",
    "\n",
    "And lastly, there are movies which are outliers to even the hybrid model as described [here](http://www.tasteofcinema.com/2014/13-great-films-that-defy-genrehybrid-categorization/)."
   ]
  },
  {
   "cell_type": "markdown",
   "metadata": {},
   "source": [
    "## 3. Let’s take the following title The Devil’s Double. \n",
    "* Here it is in [Japan/Japanese](https://play.google.com/store/movies/details?id=vxgtuEPhtt4&gl=jp) and in [US/English](http://www.amazon.com/dp/B006022NRA). \n",
    "* Explain and demonstrate a very basic schema / data structure that would adequately define a title on a retailer, taking into account Language, Country, and Type. \n",
    "* How would you store the data?"
   ]
  },
  {
   "cell_type": "markdown",
   "metadata": {},
   "source": [
    "Based on the attributes I can find on both the links, a title record could have these attributes:\n",
    "    \n",
    "* unique-id: string \n",
    "* title: string\n",
    "* year: number\n",
    "* genres: string[]\n",
    "* country: string (iso alpha 3 codes)\n",
    "* audio-lang: string\n",
    "* caption-lang: string\n",
    "* type: string\n",
    "* mpaa-rating: string\n",
    "* duration: number\n"
   ]
  },
  {
   "cell_type": "markdown",
   "metadata": {},
   "source": [
    "**Note:** \n",
    "* It is good idea to normalize the data as needed (minimize storage space, fast queries).  \n",
    "* Also isolate data based on update or rate of change.  Example, Title records never change, but a pricing records would change often.\n",
    "\n",
    "cast: {casting: string[], support-actors: string[], directors: string[], producers: string[] }\n",
    "\n",
    "price: {media-format: string, currency: string, rent: float, buy: float}"
   ]
  },
  {
   "cell_type": "code",
   "execution_count": null,
   "metadata": {},
   "outputs": [],
   "source": [
    "'''Sample records in Python dictionary format:'''\n",
    "    \n",
    "title_record = {\n",
    "    \"unique-id\": \"B006022NRA\",\n",
    "    \"title\": \"The Devil's Double\",\n",
    "    \"year\": 2011,\n",
    "    \"genres\": [\"Action\", \"Drama\", \"Suspense\"],\n",
    "    \"country\": \"USA\",\n",
    "    \"audio-lang\": \"English\",\n",
    "    \"caption-lang\": \"English[CC]\",\n",
    "    \"content-type\": \"Movie\",\n",
    "    \"mpaa-rating\": \"R (Restricted)\",\n",
    "    \"duration\": 108\n",
    "}\n",
    "\n",
    "cast_record = {\n",
    "    \"unique-id\": \"B006022NRA\",\n",
    "    \"starring\": \"Dominic Cooper, Ludivine Sagnier, Raad Rawi\",\n",
    "    \"support-actors\": [\"Philip Quast\"], \n",
    "    \"directors\": [\"Lee Tamahori\"],\n",
    "    \"producers\": [\"Paul Breuls, Michael John Fedun, Emjay Rechsteiner, Catherine Vandeleene\"]\n",
    "}\n",
    "\n",
    "price_record = {\n",
    "    \"unique-id\": \"B006022NRA\",\n",
    "    \"media-format\": \"Prime Video (streaming online video)\",\n",
    "    \"currency\": \"USD\",\n",
    "    \"rent\": 3.99, \n",
    "    \"buy\": 7.99\n",
    "}"
   ]
  },
  {
   "cell_type": "markdown",
   "metadata": {},
   "source": [
    "**Note:** Ensure the data file supports UTF-8 format.  Eg: Simplified Chinese language title string would be unicode byte characters."
   ]
  }
 ],
 "metadata": {
  "kernelspec": {
   "display_name": "Python [conda env:gis] *",
   "language": "python",
   "name": "conda-env-gis-py"
  },
  "language_info": {
   "codemirror_mode": {
    "name": "ipython",
    "version": 3
   },
   "file_extension": ".py",
   "mimetype": "text/x-python",
   "name": "python",
   "nbconvert_exporter": "python",
   "pygments_lexer": "ipython3",
   "version": "3.7.6"
  },
  "toc": {
   "base_numbering": 1,
   "nav_menu": {},
   "number_sections": false,
   "sideBar": true,
   "skip_h1_title": false,
   "title_cell": "Table of Contents",
   "title_sidebar": "Contents",
   "toc_cell": false,
   "toc_position": {},
   "toc_section_display": true,
   "toc_window_display": false
  }
 },
 "nbformat": 4,
 "nbformat_minor": 2
}
